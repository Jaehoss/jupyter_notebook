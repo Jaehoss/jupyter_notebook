{
 "cells": [
  {
   "attachments": {},
   "cell_type": "markdown",
   "metadata": {},
   "source": [
    "# 문자열 사용"
   ]
  },
  {
   "cell_type": "code",
   "execution_count": 25,
   "metadata": {},
   "outputs": [
    {
     "name": "stdout",
     "output_type": "stream",
     "text": [
      "Hello World1\n",
      "Hello World2\n",
      "Hello World3\n",
      "Hello World4\n",
      "Python's favorite food is perl\n",
      "\"Python is very easy.\" he says.\n",
      "Python's favorite food is perl\n",
      "\"Python is very easy.\" he says.\n",
      "Life is too short\n",
      "You need python\n",
      "\n",
      "... Life is too short\n",
      "... You need python\n",
      "... \n",
      "\n",
      "... Life is too short\n",
      "... You need python\n",
      "... \n"
     ]
    }
   ],
   "source": [
    "# 큰 따옴표\n",
    "a = \"Hello World1\"\n",
    "print(a)\n",
    "\n",
    "# 작은 따옴표\n",
    "a = 'Hello World2'\n",
    "print(a)\n",
    "\n",
    "# 큰 따옴표 3개\n",
    "a = \"\"\"Hello World3\"\"\"\n",
    "print(a)\n",
    "\n",
    "# 작은 따옴표 3개\n",
    "a = '''Hello World4'''\n",
    "print(a)\n",
    "\n",
    "\n",
    "\n",
    "# 문자열에 작은 따옴표 포함하기\n",
    "food = \"Python's favorite food is perl\"\n",
    "print(food)\n",
    "\n",
    "# 문자열에 큰 따옴표 포함하기\n",
    "say = '\"Python is very easy.\" he says.'\n",
    "print(say)\n",
    "\n",
    "# 역슬래시(\\) 를 사용하여 따옴표를 문자열에 포함하기\n",
    "food = 'Python\\'s favorite food is perl'\n",
    "say = \"\\\"Python is very easy.\\\" he says.\"\n",
    "print(food)\n",
    "print(say)\n",
    "\n",
    "# 이스케이프 코드(\\n)를 사용한 줄바꿈\n",
    "multiline = \"Life is too short\\nYou need python\"\n",
    "print(multiline)\n",
    "\n",
    "# 연속된 작은/큰 따옴표를 사용하여 줄바꿈 표현\n",
    "multiline='''\n",
    "... Life is too short\n",
    "... You need python\n",
    "... '''\n",
    "print(multiline)\n",
    "\n",
    "multiline=\"\"\"\n",
    "... Life is too short\n",
    "... You need python\n",
    "... \"\"\"\n",
    "print(multiline)"
   ]
  },
  {
   "attachments": {},
   "cell_type": "markdown",
   "metadata": {},
   "source": [
    "# 문자열 연산하기"
   ]
  },
  {
   "cell_type": "code",
   "execution_count": null,
   "metadata": {},
   "outputs": [],
   "source": [
    "# 문자열 더하기\n",
    "head = \"Python\"\n",
    "tail = \" is fun!\"\n",
    "head + tail"
   ]
  }
 ],
 "metadata": {
  "kernelspec": {
   "display_name": "Python 3",
   "language": "python",
   "name": "python3"
  },
  "language_info": {
   "codemirror_mode": {
    "name": "ipython",
    "version": 3
   },
   "file_extension": ".py",
   "mimetype": "text/x-python",
   "name": "python",
   "nbconvert_exporter": "python",
   "pygments_lexer": "ipython3",
   "version": "3.11.3"
  },
  "orig_nbformat": 4
 },
 "nbformat": 4,
 "nbformat_minor": 2
}
